{
 "cells": [
  {
   "cell_type": "code",
   "execution_count": 8,
   "metadata": {},
   "outputs": [
    {
     "name": "stdout",
     "output_type": "stream",
     "text": [
      "This is ApacheBench, Version 2.3 <$Revision: 1843412 $>\n",
      "Copyright 1996 Adam Twiss, Zeus Technology Ltd, http://www.zeustech.net/\n",
      "Licensed to The Apache Software Foundation, http://www.apache.org/\n",
      "\n",
      "Benchmarking localhost (be patient).....done\n",
      "\n",
      "\n",
      "Server Software:        gunicorn\n",
      "Server Hostname:        localhost\n",
      "Server Port:            8000\n",
      "\n",
      "Document Path:          /q=10\n",
      "Document Length:        2436 bytes\n",
      "\n",
      "Concurrency Level:      10\n",
      "Time taken for tests:   0.536 seconds\n",
      "Complete requests:      100\n",
      "Failed requests:        0\n",
      "Non-2xx responses:      100\n",
      "Total transferred:      272500 bytes\n",
      "HTML transferred:       243600 bytes\n",
      "Requests per second:    186.67 [#/sec] (mean)\n",
      "Time per request:       53.570 [ms] (mean)\n",
      "Time per request:       5.357 [ms] (mean, across all concurrent requests)\n",
      "Transfer rate:          496.76 [Kbytes/sec] received\n",
      "\n",
      "Connection Times (ms)\n",
      "              min  mean[+/-sd] median   max\n",
      "Connect:        0    0   0.1      0       0\n",
      "Processing:     7   52  18.0     50     115\n",
      "Waiting:        6   50  17.6     47     113\n",
      "Total:          7   52  18.0     50     115\n",
      "\n",
      "Percentage of the requests served within a certain time (ms)\n",
      "  50%     50\n",
      "  66%     60\n",
      "  75%     65\n",
      "  80%     67\n",
      "  90%     77\n",
      "  95%     84\n",
      "  98%     96\n",
      "  99%    115\n",
      " 100%    115 (longest request)\n",
      "\n",
      "Requests per second: 186.67\n"
     ]
    }
   ],
   "source": [
    "import subprocess\n",
    "import re\n",
    "\n",
    "def run_ab_command(url, num_requests, concurrency):\n",
    "    command = f\"ab -n {num_requests} -c {concurrency} -l {url}\"\n",
    "    result = subprocess.run(command, shell=True, capture_output=True, text=True)\n",
    "    output = result.stdout\n",
    "    print(output)\n",
    "\n",
    "    # \"Requests per second\" の値を抽出\n",
    "    rps_match = re.search(r\"Requests per second:\\s+([\\d.]+)\", output)\n",
    "    if rps_match:\n",
    "        return float(rps_match.group(1))\n",
    "    else:\n",
    "        return None\n",
    "\n",
    "# 使用例\n",
    "url = \"http://localhost:8000/q=10\"\n",
    "num_requests = 100\n",
    "concurrency = 10\n",
    "\n",
    "rps = run_ab_command(url, num_requests, concurrency)\n",
    "print(f\"Requests per second: {rps}\")"
   ]
  },
  {
   "cell_type": "code",
   "execution_count": null,
   "metadata": {},
   "outputs": [],
   "source": []
  },
  {
   "cell_type": "code",
   "execution_count": 9,
   "metadata": {},
   "outputs": [],
   "source": [
    "# import matplotlib.pyplot as plt\n",
    "# import numpy as np\n",
    "\n",
    "# x = np.arange(1, len(result) + 1)\n",
    "\n",
    "# # result配列をプロット\n",
    "# plt.bar(x, result)\n",
    "# plt.xlabel('Request Index')\n",
    "# plt.ylabel('Elapsed Time')\n",
    "# plt.title('Elapsed Time for Each Request')\n",
    "# plt.xticks(x)\n",
    "# plt.grid(axis='y', linestyle='--', alpha=0.7)\n",
    "# plt.show()"
   ]
  }
 ],
 "metadata": {
  "kernelspec": {
   "display_name": "Python 3",
   "language": "python",
   "name": "python3"
  },
  "language_info": {
   "codemirror_mode": {
    "name": "ipython",
    "version": 3
   },
   "file_extension": ".py",
   "mimetype": "text/x-python",
   "name": "python",
   "nbconvert_exporter": "python",
   "pygments_lexer": "ipython3",
   "version": "3.11.11"
  }
 },
 "nbformat": 4,
 "nbformat_minor": 2
}
